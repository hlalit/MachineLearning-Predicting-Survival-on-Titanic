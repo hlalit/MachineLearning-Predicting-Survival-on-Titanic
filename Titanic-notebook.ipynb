{
 "cells": [
  {
   "cell_type": "code",
   "execution_count": 1,
   "metadata": {
    "collapsed": true,
    "slideshow": {
     "slide_type": "-"
    }
   },
   "outputs": [],
   "source": [
    "# Titanic dataset : prediction of people survived using Logistic Regression\n",
    "# Date Created : 10/10/2016\n",
    "# Created by : Harshad Lalit "
   ]
  },
  {
   "cell_type": "markdown",
   "metadata": {
    "collapsed": true
   },
   "source": [
    "# Reading and Data Processing"
   ]
  },
  {
   "cell_type": "code",
   "execution_count": 2,
   "metadata": {
    "collapsed": false
   },
   "outputs": [
    {
     "data": {
      "text/html": [
       "<div>\n",
       "<table border=\"1\" class=\"dataframe\">\n",
       "  <thead>\n",
       "    <tr style=\"text-align: right;\">\n",
       "      <th></th>\n",
       "      <th>PassengerId</th>\n",
       "      <th>Survived</th>\n",
       "      <th>Pclass</th>\n",
       "      <th>Age</th>\n",
       "      <th>SibSp</th>\n",
       "      <th>Parch</th>\n",
       "      <th>Fare</th>\n",
       "    </tr>\n",
       "  </thead>\n",
       "  <tbody>\n",
       "    <tr>\n",
       "      <th>count</th>\n",
       "      <td>891.000000</td>\n",
       "      <td>891.000000</td>\n",
       "      <td>891.000000</td>\n",
       "      <td>714.000000</td>\n",
       "      <td>891.000000</td>\n",
       "      <td>891.000000</td>\n",
       "      <td>891.000000</td>\n",
       "    </tr>\n",
       "    <tr>\n",
       "      <th>mean</th>\n",
       "      <td>446.000000</td>\n",
       "      <td>0.383838</td>\n",
       "      <td>2.308642</td>\n",
       "      <td>29.699118</td>\n",
       "      <td>0.523008</td>\n",
       "      <td>0.381594</td>\n",
       "      <td>32.204208</td>\n",
       "    </tr>\n",
       "    <tr>\n",
       "      <th>std</th>\n",
       "      <td>257.353842</td>\n",
       "      <td>0.486592</td>\n",
       "      <td>0.836071</td>\n",
       "      <td>14.526497</td>\n",
       "      <td>1.102743</td>\n",
       "      <td>0.806057</td>\n",
       "      <td>49.693429</td>\n",
       "    </tr>\n",
       "    <tr>\n",
       "      <th>min</th>\n",
       "      <td>1.000000</td>\n",
       "      <td>0.000000</td>\n",
       "      <td>1.000000</td>\n",
       "      <td>0.420000</td>\n",
       "      <td>0.000000</td>\n",
       "      <td>0.000000</td>\n",
       "      <td>0.000000</td>\n",
       "    </tr>\n",
       "    <tr>\n",
       "      <th>25%</th>\n",
       "      <td>223.500000</td>\n",
       "      <td>0.000000</td>\n",
       "      <td>2.000000</td>\n",
       "      <td>NaN</td>\n",
       "      <td>0.000000</td>\n",
       "      <td>0.000000</td>\n",
       "      <td>7.910400</td>\n",
       "    </tr>\n",
       "    <tr>\n",
       "      <th>50%</th>\n",
       "      <td>446.000000</td>\n",
       "      <td>0.000000</td>\n",
       "      <td>3.000000</td>\n",
       "      <td>NaN</td>\n",
       "      <td>0.000000</td>\n",
       "      <td>0.000000</td>\n",
       "      <td>14.454200</td>\n",
       "    </tr>\n",
       "    <tr>\n",
       "      <th>75%</th>\n",
       "      <td>668.500000</td>\n",
       "      <td>1.000000</td>\n",
       "      <td>3.000000</td>\n",
       "      <td>NaN</td>\n",
       "      <td>1.000000</td>\n",
       "      <td>0.000000</td>\n",
       "      <td>31.000000</td>\n",
       "    </tr>\n",
       "    <tr>\n",
       "      <th>max</th>\n",
       "      <td>891.000000</td>\n",
       "      <td>1.000000</td>\n",
       "      <td>3.000000</td>\n",
       "      <td>80.000000</td>\n",
       "      <td>8.000000</td>\n",
       "      <td>6.000000</td>\n",
       "      <td>512.329200</td>\n",
       "    </tr>\n",
       "  </tbody>\n",
       "</table>\n",
       "</div>"
      ],
      "text/plain": [
       "       PassengerId    Survived      Pclass         Age       SibSp  \\\n",
       "count   891.000000  891.000000  891.000000  714.000000  891.000000   \n",
       "mean    446.000000    0.383838    2.308642   29.699118    0.523008   \n",
       "std     257.353842    0.486592    0.836071   14.526497    1.102743   \n",
       "min       1.000000    0.000000    1.000000    0.420000    0.000000   \n",
       "25%     223.500000    0.000000    2.000000         NaN    0.000000   \n",
       "50%     446.000000    0.000000    3.000000         NaN    0.000000   \n",
       "75%     668.500000    1.000000    3.000000         NaN    1.000000   \n",
       "max     891.000000    1.000000    3.000000   80.000000    8.000000   \n",
       "\n",
       "            Parch        Fare  \n",
       "count  891.000000  891.000000  \n",
       "mean     0.381594   32.204208  \n",
       "std      0.806057   49.693429  \n",
       "min      0.000000    0.000000  \n",
       "25%      0.000000    7.910400  \n",
       "50%      0.000000   14.454200  \n",
       "75%      0.000000   31.000000  \n",
       "max      6.000000  512.329200  "
      ]
     },
     "execution_count": 2,
     "metadata": {},
     "output_type": "execute_result"
    }
   ],
   "source": [
    "import numpy as np\n",
    "import pandas as pd\n",
    "import scipy\n",
    "import warnings\n",
    "\n",
    "warnings.filterwarnings(\"ignore\")\n",
    "titanic_train = pd.read_csv('../Kaggle-Titanic/train.csv')\n",
    "\n",
    "#NAN's in the Age column \n",
    "titanic_train.describe()"
   ]
  },
  {
   "cell_type": "code",
   "execution_count": 3,
   "metadata": {
    "collapsed": true
   },
   "outputs": [],
   "source": [
    "# Features to be used to determine passenger survivability:\n",
    "# 1. Pclass \n",
    "# 2. Sex \n",
    "# 3. Age\n",
    "# 4. SibSp\n",
    "# 5. Parch\n",
    "# 6. Fare\n",
    "# 7. Embarked\n",
    "\n",
    "# Convert Sex column to numeric: Male - 1, Female - 0\n",
    "titanic_train.loc[titanic_train.Sex == 'male','Sex'] = 1\n",
    "titanic_train.loc[titanic_train.Sex == 'female','Sex'] = 0\n",
    "\n",
    "# fill the NAN values in the Age column with the mean of the Age column\n",
    "titanic_train['Age'] = titanic_train['Age'].fillna(titanic_train['Age'].mean())\n",
    "\n",
    "# Obtain unique values of the Embarked column\n",
    "titanic_train['Embarked'].unique()\n",
    "\n",
    "# Category S is the most in the Embarked column\n",
    "temp = titanic_train.groupby(titanic_train['Embarked'])\n",
    "temp.describe() \n",
    "\n",
    "#converting nan value to S; also converting S, C and Q to numeric values\n",
    "titanic_train['Embarked'] = titanic_train['Embarked'].fillna('S')\n",
    "titanic_train.loc[titanic_train.Embarked == 'S','Embarked'] = 1\n",
    "titanic_train.loc[titanic_train.Embarked == 'C','Embarked'] = 2\n",
    "titanic_train.loc[titanic_train.Embarked == 'Q','Embarked'] = 3"
   ]
  },
  {
   "cell_type": "code",
   "execution_count": 4,
   "metadata": {
    "collapsed": false
   },
   "outputs": [
    {
     "data": {
      "text/html": [
       "<div>\n",
       "<table border=\"1\" class=\"dataframe\">\n",
       "  <thead>\n",
       "    <tr style=\"text-align: right;\">\n",
       "      <th></th>\n",
       "      <th>PassengerId</th>\n",
       "      <th>Survived</th>\n",
       "      <th>Pclass</th>\n",
       "      <th>Name</th>\n",
       "      <th>Sex</th>\n",
       "      <th>Age</th>\n",
       "      <th>SibSp</th>\n",
       "      <th>Parch</th>\n",
       "      <th>Ticket</th>\n",
       "      <th>Fare</th>\n",
       "      <th>Cabin</th>\n",
       "      <th>Embarked</th>\n",
       "    </tr>\n",
       "  </thead>\n",
       "  <tbody>\n",
       "    <tr>\n",
       "      <th>0</th>\n",
       "      <td>1</td>\n",
       "      <td>0</td>\n",
       "      <td>3</td>\n",
       "      <td>Braund, Mr. Owen Harris</td>\n",
       "      <td>1</td>\n",
       "      <td>22.0</td>\n",
       "      <td>1</td>\n",
       "      <td>0</td>\n",
       "      <td>A/5 21171</td>\n",
       "      <td>7.2500</td>\n",
       "      <td>NaN</td>\n",
       "      <td>1</td>\n",
       "    </tr>\n",
       "    <tr>\n",
       "      <th>1</th>\n",
       "      <td>2</td>\n",
       "      <td>1</td>\n",
       "      <td>1</td>\n",
       "      <td>Cumings, Mrs. John Bradley (Florence Briggs Th...</td>\n",
       "      <td>0</td>\n",
       "      <td>38.0</td>\n",
       "      <td>1</td>\n",
       "      <td>0</td>\n",
       "      <td>PC 17599</td>\n",
       "      <td>71.2833</td>\n",
       "      <td>C85</td>\n",
       "      <td>2</td>\n",
       "    </tr>\n",
       "    <tr>\n",
       "      <th>2</th>\n",
       "      <td>3</td>\n",
       "      <td>1</td>\n",
       "      <td>3</td>\n",
       "      <td>Heikkinen, Miss. Laina</td>\n",
       "      <td>0</td>\n",
       "      <td>26.0</td>\n",
       "      <td>0</td>\n",
       "      <td>0</td>\n",
       "      <td>STON/O2. 3101282</td>\n",
       "      <td>7.9250</td>\n",
       "      <td>NaN</td>\n",
       "      <td>1</td>\n",
       "    </tr>\n",
       "    <tr>\n",
       "      <th>3</th>\n",
       "      <td>4</td>\n",
       "      <td>1</td>\n",
       "      <td>1</td>\n",
       "      <td>Futrelle, Mrs. Jacques Heath (Lily May Peel)</td>\n",
       "      <td>0</td>\n",
       "      <td>35.0</td>\n",
       "      <td>1</td>\n",
       "      <td>0</td>\n",
       "      <td>113803</td>\n",
       "      <td>53.1000</td>\n",
       "      <td>C123</td>\n",
       "      <td>1</td>\n",
       "    </tr>\n",
       "    <tr>\n",
       "      <th>4</th>\n",
       "      <td>5</td>\n",
       "      <td>0</td>\n",
       "      <td>3</td>\n",
       "      <td>Allen, Mr. William Henry</td>\n",
       "      <td>1</td>\n",
       "      <td>35.0</td>\n",
       "      <td>0</td>\n",
       "      <td>0</td>\n",
       "      <td>373450</td>\n",
       "      <td>8.0500</td>\n",
       "      <td>NaN</td>\n",
       "      <td>1</td>\n",
       "    </tr>\n",
       "  </tbody>\n",
       "</table>\n",
       "</div>"
      ],
      "text/plain": [
       "   PassengerId  Survived  Pclass  \\\n",
       "0            1         0       3   \n",
       "1            2         1       1   \n",
       "2            3         1       3   \n",
       "3            4         1       1   \n",
       "4            5         0       3   \n",
       "\n",
       "                                                Name Sex   Age  SibSp  Parch  \\\n",
       "0                            Braund, Mr. Owen Harris   1  22.0      1      0   \n",
       "1  Cumings, Mrs. John Bradley (Florence Briggs Th...   0  38.0      1      0   \n",
       "2                             Heikkinen, Miss. Laina   0  26.0      0      0   \n",
       "3       Futrelle, Mrs. Jacques Heath (Lily May Peel)   0  35.0      1      0   \n",
       "4                           Allen, Mr. William Henry   1  35.0      0      0   \n",
       "\n",
       "             Ticket     Fare Cabin Embarked  \n",
       "0         A/5 21171   7.2500   NaN        1  \n",
       "1          PC 17599  71.2833   C85        2  \n",
       "2  STON/O2. 3101282   7.9250   NaN        1  \n",
       "3            113803  53.1000  C123        1  \n",
       "4            373450   8.0500   NaN        1  "
      ]
     },
     "execution_count": 4,
     "metadata": {},
     "output_type": "execute_result"
    }
   ],
   "source": [
    "titanic_train.head()"
   ]
  },
  {
   "cell_type": "markdown",
   "metadata": {
    "collapsed": true
   },
   "source": [
    "# Data Visualization"
   ]
  },
  {
   "cell_type": "code",
   "execution_count": 5,
   "metadata": {
    "collapsed": true
   },
   "outputs": [],
   "source": [
    "import matplotlib.pyplot as plt\n",
    "\n",
    "# show plots in the notebook\n",
    "%matplotlib inline"
   ]
  },
  {
   "cell_type": "code",
   "execution_count": 6,
   "metadata": {
    "collapsed": false
   },
   "outputs": [
    {
     "data": {
      "image/png": "[encoded data removed]",
      "text/plain": [
       "<matplotlib.figure.Figure at 0x10a6c7a90>"
      ]
     },
     "metadata": {},
     "output_type": "display_data"
    }
   ],
   "source": [
    "# histogram of Ticket Fare\n",
    "plt.figure(1)\n",
    "titanic_train['Fare'].hist()\n",
    "plt.title('Histogram of ticket fare on the Titanic')\n",
    "plt.xlabel('Ticket Fare')\n",
    "plt.ylabel('Frequency')\n",
    "plt.show()"
   ]
  },
  {
   "cell_type": "code",
   "execution_count": 7,
   "metadata": {
    "collapsed": false
   },
   "outputs": [
    {
     "data": {
      "image/png": "[encoded data removed]",
      "text/plain": [
       "<matplotlib.figure.Figure at 0x10a7de0f0>"
      ]
     },
     "metadata": {},
     "output_type": "display_data"
    }
   ],
   "source": [
    "# histogram of Age\n",
    "plt.figure(2)\n",
    "titanic_train['Age'].hist()\n",
    "plt.title('Histogram of age of passengers on the Titanic')\n",
    "plt.xlabel('Age')\n",
    "plt.ylabel('Frequency')\n",
    "plt.show()"
   ]
  },
  {
   "cell_type": "code",
   "execution_count": 8,
   "metadata": {
    "collapsed": false
   },
   "outputs": [
    {
     "data": {
      "image/png": "[encoded data removed]",
      "text/plain": [
       "<matplotlib.figure.Figure at 0x10a841ba8>"
      ]
     },
     "metadata": {},
     "output_type": "display_data"
    }
   ],
   "source": [
    "# number_embarked is a pandas series, not a dataframe\n",
    "number_embarked = titanic_train.groupby('Embarked').size() \n",
    "\n",
    "slices = [number_embarked.iloc[0],number_embarked.iloc[1],number_embarked.iloc[2]]\n",
    "labs = ['S','C','Q']\n",
    "cols = ['r','g','b']\n",
    "\n",
    "#pie chart to show which port is the most popular for embarking on the Titanic\n",
    "plt.figure(3)\n",
    "plt.pie(slices, \n",
    "        labels=labs, \n",
    "        colors=cols, \n",
    "        explode=(0.1,0,0),\n",
    "        autopct='%1.1f%%')\n",
    "\n",
    "plt.title('Port embarkation point')\n",
    "plt.show()"
   ]
  },
  {
   "cell_type": "markdown",
   "metadata": {},
   "source": [
    "# Logistic Regression on Training Data"
   ]
  },
  {
   "cell_type": "code",
   "execution_count": 9,
   "metadata": {
    "collapsed": false
   },
   "outputs": [],
   "source": [
    "# preparing data for utilising on the training set\n",
    "# copying the necessary features into new dataframe\n",
    "train = titanic_train[['Pclass','Sex','Age','SibSp','Parch','Fare','Embarked']]\n",
    "\n",
    "#making all the columns of the dataframe of the same dtype - float\n",
    "train.loc[:,:] = train.loc[:,:].astype('float64')\n",
    "train_nn = train.copy()\n",
    "\n",
    "max_arr = np.array([0,3,4,6]) #calculated manually \n",
    "mean_arr = np.array([2,5]) #calculated manually \n",
    "\n",
    "for i in max_arr:\n",
    "    maxi = np.max(train.iloc[:,i])\n",
    "    train.iloc[:,i] = train.iloc[:,i]/maxi\n",
    "    \n",
    "for i in mean_arr:\n",
    "    avg = np.mean(train.iloc[:,i])\n",
    "    var = np.std(train.iloc[:,i])\n",
    "    train.iloc[:,i] = (train.iloc[:,i] - avg)/var\n",
    "\n",
    "    \n",
    "#convert dataframe of training data into numpy 2D matrix \n",
    "train = train.as_matrix()\n",
    "\n",
    "#returns tuple where 1st element is rows and 2nd the columns\n",
    "dim = train.shape\n",
    "m = dim[0]\n",
    "n = dim[1] + 1\n",
    "\n",
    "#convert labels into array (mx1)\n",
    "labels = np.zeros(m)\n",
    "labels[:] = titanic_train['Survived'].iloc[:]\n",
    "\n",
    "#adding a column of 1's to the training set (xo = 1) (train ~ mx(n+1))\n",
    "one = np.ones([dim[0],1])\n",
    "train = np.c_[one,train]\n",
    "\n",
    "#size of theta = number of features + 1 (n) - array of size nx1\n",
    "theta = np.zeros(n)\n",
    "lda = 2.0"
   ]
  },
  {
   "cell_type": "code",
   "execution_count": 10,
   "metadata": {
    "collapsed": true
   },
   "outputs": [],
   "source": [
    "import math as mt \n",
    "\n",
    "#sigmoid function for returning the value of hypothesis function : h(x) \n",
    "def sigmoid(z):\n",
    "    \n",
    "    h = 1/(1 + np.exp(-z))\n",
    "    return h"
   ]
  },
  {
   "cell_type": "code",
   "execution_count": 11,
   "metadata": {
    "collapsed": false
   },
   "outputs": [],
   "source": [
    "#function to return the cost function at every iteration of the gradient descent\n",
    "def cost_function(theta):\n",
    "    \n",
    "    s = 0.0\n",
    "    z = np.dot(train, theta)\n",
    "    thetap = theta\n",
    "    thetap = thetap.tolist()\n",
    "    thetap.remove(thetap[0])\n",
    "    thetap = np.array(thetap)\n",
    "    h = sigmoid(z)\n",
    "    \n",
    "    cost = -np.dot(np.transpose(labels),np.log(h)) - np.dot(np.transpose(1 - labels),np.log(1 - h))\n",
    "    cost = cost + (0.5*lda/m)*np.sum(thetap**2)\n",
    "    cost = cost/m\n",
    "            \n",
    "    return cost"
   ]
  },
  {
   "cell_type": "code",
   "execution_count": 12,
   "metadata": {
    "collapsed": false
   },
   "outputs": [],
   "source": [
    "#Script for obtaining values of parameters theta by minimising the cost function J(theta)\n",
    "#learning rate(alpha) = 0.01\n",
    "#number of iterations = 2000\n",
    "\n",
    "def gradient_cost_function(theta):\n",
    "    \n",
    "    m = dim[0] #number of training examples\n",
    "    n = dim[1] + 1 #number of features\n",
    "    dummy = np.zeros(m) #array of size mx1 \n",
    "    grad = np.zeros(n)\n",
    "\n",
    "    z = np.dot(train, theta)\n",
    "    h = sigmoid(z)\n",
    "    \n",
    "    dummy = h - labels\n",
    "                \n",
    "#     grad = (1/m)*np.dot(np.transpose(train),dummy)\n",
    "    for i in range(0,n):\n",
    "        if(i == 0):\n",
    "            grad[0] = (1/m)*np.dot(train[:,0],dummy)\n",
    "        if(i != 0):\n",
    "            grad[i] = (1/m)*np.dot(train[:,i],dummy) + (lda/m)*theta[i]\n",
    "        \n",
    "    return grad"
   ]
  },
  {
   "cell_type": "code",
   "execution_count": 13,
   "metadata": {
    "collapsed": false
   },
   "outputs": [
    {
     "name": "stdout",
     "output_type": "stream",
     "text": [
      "Warning: Desired error not necessarily achieved due to precision loss.\n",
      "         Current function value: 0.445571\n",
      "         Iterations: 28\n",
      "         Function evaluations: 119\n",
      "         Gradient evaluations: 107\n",
      "[ 2.74381126 -2.51715897 -2.4644324  -0.41785621 -1.24395013 -0.51241453\n",
      "  0.19085684  0.61261064]\n"
     ]
    }
   ],
   "source": [
    "from scipy import optimize\n",
    "theta = scipy.optimize.fmin_bfgs(cost_function, theta, gradient_cost_function)\n",
    "print(theta)"
   ]
  },
  {
   "cell_type": "code",
   "execution_count": 14,
   "metadata": {
    "collapsed": false
   },
   "outputs": [
    {
     "name": "stdout",
     "output_type": "stream",
     "text": [
      "Prediction accuracy is: 80.13468013468014 %\n"
     ]
    }
   ],
   "source": [
    "#calculate the prediction accuracy of the logistic regression\n",
    "\n",
    "z = np.dot(train, theta)\n",
    "predictions = sigmoid(z)\n",
    "\n",
    "predictions[predictions >= 0.5] = 1\n",
    "predictions[predictions < 0.5] = 0\n",
    "\n",
    "count = 1\n",
    "for i in range(0,m):\n",
    "    if(labels[i]==predictions[i]):\n",
    "        count = count + 1\n",
    "\n",
    "accuracy = count/m\n",
    "print(\"Prediction accuracy is:\",accuracy*100,\"%\")"
   ]
  },
  {
   "cell_type": "markdown",
   "metadata": {
    "collapsed": false
   },
   "source": [
    "# Neural Network on Training Data"
   ]
  },
  {
   "cell_type": "code",
   "execution_count": 15,
   "metadata": {
    "collapsed": false
   },
   "outputs": [],
   "source": [
    "max_arr = np.array([0,3,4,6]) #calculated manually \n",
    "mean_arr = np.array([2,5]) #calculated manually \n",
    "\n",
    "for i in max_arr:\n",
    "    maxi = np.max(train_nn.iloc[:,i])\n",
    "    train_nn.iloc[:,i] = train_nn.iloc[:,i]/maxi\n",
    "    \n",
    "for i in mean_arr:\n",
    "    avg = np.mean(train_nn.iloc[:,i])\n",
    "    var = np.std(train_nn.iloc[:,i])\n",
    "    train_nn.iloc[:,i] = (train_nn.iloc[:,i] - avg)/var\n",
    "\n",
    "train_nn = train_nn.as_matrix()\n",
    "train_nn = np.c_[one,train_nn]"
   ]
  },
  {
   "cell_type": "code",
   "execution_count": 16,
   "metadata": {
    "collapsed": false
   },
   "outputs": [],
   "source": [
    "nlayers = 3\n",
    "ielements = []\n",
    "btheta_init = []      #list to compute theta at every layer \n",
    "ntheta = []           #list to enter size of theta at every layer\n",
    "theta_reshape = []\n",
    "einit = 0.44\n",
    "\n",
    "for k in range(0,nlayers): #number of elements is the same in every layer = n - 1 (+ bias unit)\n",
    "    ielements.append(n-1)\n",
    "\n",
    "#initializing the value of weights (theta) vector \n",
    "for k in range(0,nlayers-1):\n",
    "    theta_nn = np.random.rand(ielements[k+1],ielements[k]+1)*2*einit - einit\n",
    "    \n",
    "    if(k == nlayers - 2):\n",
    "        theta_nn = np.random.rand(ielements[k]+1)*2*einit - einit\n",
    "        \n",
    "    btheta_init.append(theta_nn)\n",
    "    ntheta.append(btheta_init[k].size)\n",
    "\n",
    "size_btheta = len(btheta_init)\n",
    "\n",
    "for k in range(0,size_btheta):\n",
    "    theta_reshape.append(np.reshape(btheta_init[k],btheta_init[k].size))\n",
    "    \n",
    "theta_reshape = np.concatenate((theta_reshape[0],theta_reshape[1])) #need to find a generalization statement !\n",
    "theta_reshape = theta_reshape.astype(float)"
   ]
  },
  {
   "cell_type": "code",
   "execution_count": 17,
   "metadata": {
    "collapsed": false
   },
   "outputs": [],
   "source": [
    "#sigmoid function for returning the value of hypothesis function : h(x) \n",
    "def sigmoid(z):\n",
    "    \n",
    "    h = 1.0/(1.0 + np.exp(-z))\n",
    "    return h"
   ]
  },
  {
   "cell_type": "code",
   "execution_count": 18,
   "metadata": {
    "collapsed": false
   },
   "outputs": [],
   "source": [
    "#function to return the cost function at every iteration of the gradient descent\n",
    "def cost_function_nn(theta_reshape):\n",
    "   \n",
    "    btheta  = []\n",
    "    cost = float(0.0)\n",
    "    for k in range(0,size_btheta):\n",
    "        tmp1 = ntheta[:k]\n",
    "        tmp2 = ntheta[:k+1]\n",
    "        LL = np.sum(tmp1)\n",
    "        UL = np.sum(tmp2) \n",
    "        tmp = theta_reshape[LL:UL]\n",
    "        \n",
    "        if(k == size_btheta - 1):\n",
    "            tmp = np.reshape(tmp,ielements[k]+1)\n",
    "        else:\n",
    "            tmp = np.reshape(tmp,(ielements[k+1],ielements[k]+1))   \n",
    "        btheta.append(tmp)\n",
    "    \n",
    "    for t in range(0,m):\n",
    "        a = []\n",
    "        delta = []\n",
    "        a.append(train_nn[t,:])\n",
    "        \n",
    "        #forward propagation (tp is a temporary variable)\n",
    "        for l in range(1,nlayers):\n",
    "            tp = np.dot(btheta[l-1],a[l-1])\n",
    "            tp = sigmoid(tp)\n",
    "            \n",
    "            if(l != nlayers-1):\n",
    "                tp = np.insert(tp,0,1.0) #insert the element 1 in front of feature vector at layer j\n",
    "            a.append(tp)\n",
    "        \n",
    "        cost = cost + labels[t]*np.log(a[nlayers-1]) + (1-labels[t])*(1-np.log(a[nlayers-1]))\n",
    "        \n",
    "    cost = (-1.0/m)*cost\n",
    "    return cost "
   ]
  },
  {
   "cell_type": "code",
   "execution_count": 19,
   "metadata": {
    "collapsed": false
   },
   "outputs": [],
   "source": [
    "def gradient_cost_function_nn(theta_reshape):\n",
    "    \n",
    "    btheta  = []\n",
    "    Dij = []         #list to compute gradient of theta at every layer\n",
    "    nabla = []       #accumulator list to compute the gradient of theta at every layer\n",
    "    for k in range(0,size_btheta):\n",
    "        tmp1 = ntheta[:k]\n",
    "        tmp2 = ntheta[:k+1]\n",
    "        LL = np.sum(tmp1)\n",
    "        UL = np.sum(tmp2) \n",
    "        tmp = theta_reshape[LL:UL]\n",
    "        \n",
    "        if(k == size_btheta - 1):\n",
    "            tmp = np.reshape(tmp,ielements[k]+1)\n",
    "        else:\n",
    "            tmp = np.reshape(tmp,(ielements[k+1],ielements[k]+1))   \n",
    "        btheta.append(tmp)\n",
    "        \n",
    "    for k in range(0,size_btheta):\n",
    "        nabla.append(btheta_init[k]*0.0)\n",
    "    \n",
    "    for t in range(0,m): \n",
    "        a = []\n",
    "        delta = []\n",
    "        a.append(train_nn[t,:])\n",
    "        \n",
    "        #forward propagation (tp is a temporary variable)\n",
    "        for l in range(1,nlayers):\n",
    "            tp = np.dot(btheta[l-1],a[l-1])\n",
    "            tp = sigmoid(tp)\n",
    "            \n",
    "            if(l != nlayers-1):\n",
    "                tp = np.insert(tp,0,1) #insert the element 1 in front of feature vector at layer j\n",
    "            a.append(tp)\n",
    "        \n",
    "        #backpropagation (dp is a temporary variable)\n",
    "        k=0\n",
    "        for l in range(nlayers-1,0,-1):\n",
    "            if(l == nlayers-1):\n",
    "                dp = a[l] - labels[t]\n",
    "            else:\n",
    "                dp = np.multiply(np.dot(btheta[l],delta[k]),a[l])\n",
    "                dp = np.multiply(dp,(1-a[l]))\n",
    "                dp = dp[1:] #removing the first element of delta array\n",
    "                k = k + 1\n",
    "                \n",
    "            delta.append(dp)\n",
    "        delta.reverse()\n",
    "            \n",
    "        #computing the values of nabla[i]\n",
    "        for l in range(0,nlayers-1):\n",
    "            nabla[l] = nabla[l] + np.dot(np.transpose(np.matrix(delta[l])),np.matrix(a[l]))\n",
    "            nabla[l] = np.asarray(nabla[l])\n",
    "            \n",
    "            if(l == nlayers-2):\n",
    "                nabla[l] = np.reshape(nabla[l],-1)\n",
    "\n",
    "    for k in range(0,size_btheta):\n",
    "        Dij.append(nabla[k])\n",
    "        Dij[k] = Dij[k]/m\n",
    "    \n",
    "    grad = []\n",
    "    for k in range(0,size_btheta):\n",
    "        grad.append(np.reshape(Dij[k],Dij[k].size))\n",
    "        \n",
    "    grad = np.concatenate((grad[0],grad[1])) #need to find a generalization statement !\n",
    "    grad = grad.astype(float)\n",
    "    \n",
    "    return grad"
   ]
  },
  {
   "cell_type": "code",
   "execution_count": 20,
   "metadata": {
    "collapsed": false
   },
   "outputs": [],
   "source": [
    "def gradient_check(theta_reshape):\n",
    "    \n",
    "    ntot = theta_reshape.shape[0]\n",
    "    gradtheta = np.zeros(ntot,dtype = float)\n",
    "    epsilon = 0.0001\n",
    "    for i in range(0,ntot):\n",
    "        thetaPlus = theta_reshape\n",
    "        thetaPlus[i] = thetaPlus[i] + epsilon\n",
    "        thetaMinus = theta_reshape\n",
    "        thetaMinus[i] = thetaMinus[i] - epsilon \n",
    "        gradtheta[i] = (cost_function_nn(thetaPlus) - cost_function_nn(thetaMinus))/(2.0*epsilon)\n",
    "    \n",
    "    return gradtheta\n",
    "\n",
    "# grad1 = gradient_check(theta_reshape)\n",
    "# grad2 = gradient_cost_function_nn(theta_reshape)"
   ]
  },
  {
   "cell_type": "code",
   "execution_count": 21,
   "metadata": {
    "collapsed": false
   },
   "outputs": [
    {
     "name": "stdout",
     "output_type": "stream",
     "text": [
      "Warning: Desired error not necessarily achieved due to precision loss.\n",
      "         Current function value: -1.171996\n",
      "         Iterations: 5\n",
      "         Function evaluations: 106\n",
      "         Gradient evaluations: 94\n"
     ]
    }
   ],
   "source": [
    "theta_reshape = scipy.optimize.fmin_bfgs(cost_function_nn, theta_reshape, gradient_cost_function_nn)"
   ]
  },
  {
   "cell_type": "code",
   "execution_count": 22,
   "metadata": {
    "collapsed": false
   },
   "outputs": [
    {
     "name": "stdout",
     "output_type": "stream",
     "text": [
      "Prediction accuracy is: 64.75869809203144 %\n"
     ]
    }
   ],
   "source": [
    "#calculate the prediction accuracy of the neural network\n",
    "\n",
    "btheta  = []\n",
    "predictions_nn = np.zeros(m)\n",
    "\n",
    "for k in range(0,size_btheta):\n",
    "    tmp1 = ntheta[:k]\n",
    "    tmp2 = ntheta[:k+1]\n",
    "    LL = np.sum(tmp1)\n",
    "    UL = np.sum(tmp2) \n",
    "    tmp = theta_reshape[LL:UL]\n",
    "        \n",
    "    if(k == size_btheta - 1):\n",
    "        tmp = np.reshape(tmp,ielements[k]+1)\n",
    "    else:\n",
    "        tmp = np.reshape(tmp,(ielements[k+1],ielements[k]+1))   \n",
    "    btheta.append(tmp)\n",
    "    \n",
    "for t in range(0,m): \n",
    "    a = []\n",
    "    delta = []\n",
    "    a.append(train_nn[t,:])\n",
    "        \n",
    "    #forward propagation (tp is a temporary variable)\n",
    "    for l in range(1,nlayers):\n",
    "        tp = np.dot(btheta[l-1],a[l-1])\n",
    "        tp = sigmoid(tp)\n",
    "            \n",
    "        if(l != nlayers-1):\n",
    "            tp = np.insert(tp,0,1) #insert the element 1 in front of feature vector at layer j\n",
    "        a.append(tp)\n",
    "        \n",
    "    predictions_nn[t] = a[nlayers-1]\n",
    "\n",
    "predictions_nn[predictions_nn >= 0.5] = 1\n",
    "predictions_nn[predictions_nn < 0.5] = 0\n",
    "\n",
    "count = 1\n",
    "for i in range(0,m):\n",
    "    if(labels[i]==predictions_nn[i]):\n",
    "        count = count + 1\n",
    "\n",
    "accuracy = count/m\n",
    "print(\"Prediction accuracy is:\",accuracy*100,\"%\")"
   ]
  },
  {
   "cell_type": "markdown",
   "metadata": {},
   "source": [
    "# Evaluating the Test Set"
   ]
  },
  {
   "cell_type": "code",
   "execution_count": 23,
   "metadata": {
    "collapsed": false
   },
   "outputs": [],
   "source": [
    "titanic_test = pd.read_csv('../Kaggle-Titanic/test.csv')"
   ]
  },
  {
   "cell_type": "code",
   "execution_count": 24,
   "metadata": {
    "collapsed": false
   },
   "outputs": [
    {
     "data": {
      "text/html": [
       "<div>\n",
       "<table border=\"1\" class=\"dataframe\">\n",
       "  <thead>\n",
       "    <tr style=\"text-align: right;\">\n",
       "      <th></th>\n",
       "      <th>PassengerId</th>\n",
       "      <th>Pclass</th>\n",
       "      <th>Age</th>\n",
       "      <th>SibSp</th>\n",
       "      <th>Parch</th>\n",
       "      <th>Fare</th>\n",
       "    </tr>\n",
       "  </thead>\n",
       "  <tbody>\n",
       "    <tr>\n",
       "      <th>count</th>\n",
       "      <td>418.000000</td>\n",
       "      <td>418.000000</td>\n",
       "      <td>332.000000</td>\n",
       "      <td>418.000000</td>\n",
       "      <td>418.000000</td>\n",
       "      <td>417.000000</td>\n",
       "    </tr>\n",
       "    <tr>\n",
       "      <th>mean</th>\n",
       "      <td>1100.500000</td>\n",
       "      <td>2.265550</td>\n",
       "      <td>30.272590</td>\n",
       "      <td>0.447368</td>\n",
       "      <td>0.392344</td>\n",
       "      <td>35.627188</td>\n",
       "    </tr>\n",
       "    <tr>\n",
       "      <th>std</th>\n",
       "      <td>120.810458</td>\n",
       "      <td>0.841838</td>\n",
       "      <td>14.181209</td>\n",
       "      <td>0.896760</td>\n",
       "      <td>0.981429</td>\n",
       "      <td>55.907576</td>\n",
       "    </tr>\n",
       "    <tr>\n",
       "      <th>min</th>\n",
       "      <td>892.000000</td>\n",
       "      <td>1.000000</td>\n",
       "      <td>0.170000</td>\n",
       "      <td>0.000000</td>\n",
       "      <td>0.000000</td>\n",
       "      <td>0.000000</td>\n",
       "    </tr>\n",
       "    <tr>\n",
       "      <th>25%</th>\n",
       "      <td>996.250000</td>\n",
       "      <td>1.000000</td>\n",
       "      <td>NaN</td>\n",
       "      <td>0.000000</td>\n",
       "      <td>0.000000</td>\n",
       "      <td>NaN</td>\n",
       "    </tr>\n",
       "    <tr>\n",
       "      <th>50%</th>\n",
       "      <td>1100.500000</td>\n",
       "      <td>3.000000</td>\n",
       "      <td>NaN</td>\n",
       "      <td>0.000000</td>\n",
       "      <td>0.000000</td>\n",
       "      <td>NaN</td>\n",
       "    </tr>\n",
       "    <tr>\n",
       "      <th>75%</th>\n",
       "      <td>1204.750000</td>\n",
       "      <td>3.000000</td>\n",
       "      <td>NaN</td>\n",
       "      <td>1.000000</td>\n",
       "      <td>0.000000</td>\n",
       "      <td>NaN</td>\n",
       "    </tr>\n",
       "    <tr>\n",
       "      <th>max</th>\n",
       "      <td>1309.000000</td>\n",
       "      <td>3.000000</td>\n",
       "      <td>76.000000</td>\n",
       "      <td>8.000000</td>\n",
       "      <td>9.000000</td>\n",
       "      <td>512.329200</td>\n",
       "    </tr>\n",
       "  </tbody>\n",
       "</table>\n",
       "</div>"
      ],
      "text/plain": [
       "       PassengerId      Pclass         Age       SibSp       Parch        Fare\n",
       "count   418.000000  418.000000  332.000000  418.000000  418.000000  417.000000\n",
       "mean   1100.500000    2.265550   30.272590    0.447368    0.392344   35.627188\n",
       "std     120.810458    0.841838   14.181209    0.896760    0.981429   55.907576\n",
       "min     892.000000    1.000000    0.170000    0.000000    0.000000    0.000000\n",
       "25%     996.250000    1.000000         NaN    0.000000    0.000000         NaN\n",
       "50%    1100.500000    3.000000         NaN    0.000000    0.000000         NaN\n",
       "75%    1204.750000    3.000000         NaN    1.000000    0.000000         NaN\n",
       "max    1309.000000    3.000000   76.000000    8.000000    9.000000  512.329200"
      ]
     },
     "execution_count": 24,
     "metadata": {},
     "output_type": "execute_result"
    }
   ],
   "source": [
    "titanic_test.describe()"
   ]
  },
  {
   "cell_type": "code",
   "execution_count": 25,
   "metadata": {
    "collapsed": false
   },
   "outputs": [],
   "source": [
    "# Convert Sex column to numeric: Male - 1, Female - 0\n",
    "titanic_test.loc[titanic_test.Sex == 'male','Sex'] = 1\n",
    "titanic_test.loc[titanic_test.Sex == 'female','Sex'] = 0\n",
    "\n",
    "# fill the NAN values in the Age column with the mean of the Age column\n",
    "titanic_test['Age'] = titanic_test['Age'].fillna(titanic_test['Age'].mean())\n",
    "\n",
    "#Again, category S is the most popular destination for embarking \n",
    "temp = titanic_train.groupby(titanic_test['Embarked'])\n",
    "temp.describe()\n",
    "\n",
    "#converting nan value to S; also converting S, C and Q to numeric values\n",
    "titanic_test['Embarked'] = titanic_test['Embarked'].fillna('S')\n",
    "titanic_test.loc[titanic_test.Embarked == 'S','Embarked'] = 1\n",
    "titanic_test.loc[titanic_test.Embarked == 'C','Embarked'] = 2\n",
    "titanic_test.loc[titanic_test.Embarked == 'Q','Embarked'] = 3\n",
    "\n",
    "#fill the NAN value in the fare column with the mean of the fare column\n",
    "titanic_test['Fare'] = titanic_test['Fare'].fillna(titanic_test['Fare'].mean())"
   ]
  },
  {
   "cell_type": "code",
   "execution_count": 26,
   "metadata": {
    "collapsed": false
   },
   "outputs": [
    {
     "name": "stdout",
     "output_type": "stream",
     "text": [
      "PassengerId      int64\n",
      "Pclass           int64\n",
      "Name            object\n",
      "Sex             object\n",
      "Age            float64\n",
      "SibSp            int64\n",
      "Parch            int64\n",
      "Ticket          object\n",
      "Fare           float64\n",
      "Cabin           object\n",
      "Embarked        object\n",
      "dtype: object\n"
     ]
    }
   ],
   "source": [
    "print(titanic_test.dtypes)"
   ]
  },
  {
   "cell_type": "code",
   "execution_count": 27,
   "metadata": {
    "collapsed": false
   },
   "outputs": [
    {
     "data": {
      "text/html": [
       "<div>\n",
       "<table border=\"1\" class=\"dataframe\">\n",
       "  <thead>\n",
       "    <tr style=\"text-align: right;\">\n",
       "      <th></th>\n",
       "      <th>Pclass</th>\n",
       "      <th>Sex</th>\n",
       "      <th>Age</th>\n",
       "      <th>SibSp</th>\n",
       "      <th>Parch</th>\n",
       "      <th>Fare</th>\n",
       "      <th>Embarked</th>\n",
       "    </tr>\n",
       "  </thead>\n",
       "  <tbody>\n",
       "    <tr>\n",
       "      <th>count</th>\n",
       "      <td>418.000000</td>\n",
       "      <td>418.000000</td>\n",
       "      <td>418.000000</td>\n",
       "      <td>418.000000</td>\n",
       "      <td>418.000000</td>\n",
       "      <td>418.000000</td>\n",
       "      <td>418.000000</td>\n",
       "    </tr>\n",
       "    <tr>\n",
       "      <th>mean</th>\n",
       "      <td>2.265550</td>\n",
       "      <td>0.636364</td>\n",
       "      <td>30.272590</td>\n",
       "      <td>0.447368</td>\n",
       "      <td>0.392344</td>\n",
       "      <td>35.627188</td>\n",
       "      <td>1.464115</td>\n",
       "    </tr>\n",
       "    <tr>\n",
       "      <th>std</th>\n",
       "      <td>0.841838</td>\n",
       "      <td>0.481622</td>\n",
       "      <td>12.634534</td>\n",
       "      <td>0.896760</td>\n",
       "      <td>0.981429</td>\n",
       "      <td>55.840500</td>\n",
       "      <td>0.685516</td>\n",
       "    </tr>\n",
       "    <tr>\n",
       "      <th>min</th>\n",
       "      <td>1.000000</td>\n",
       "      <td>0.000000</td>\n",
       "      <td>0.170000</td>\n",
       "      <td>0.000000</td>\n",
       "      <td>0.000000</td>\n",
       "      <td>0.000000</td>\n",
       "      <td>1.000000</td>\n",
       "    </tr>\n",
       "    <tr>\n",
       "      <th>25%</th>\n",
       "      <td>1.000000</td>\n",
       "      <td>0.000000</td>\n",
       "      <td>23.000000</td>\n",
       "      <td>0.000000</td>\n",
       "      <td>0.000000</td>\n",
       "      <td>7.895800</td>\n",
       "      <td>1.000000</td>\n",
       "    </tr>\n",
       "    <tr>\n",
       "      <th>50%</th>\n",
       "      <td>3.000000</td>\n",
       "      <td>1.000000</td>\n",
       "      <td>30.272590</td>\n",
       "      <td>0.000000</td>\n",
       "      <td>0.000000</td>\n",
       "      <td>14.454200</td>\n",
       "      <td>1.000000</td>\n",
       "    </tr>\n",
       "    <tr>\n",
       "      <th>75%</th>\n",
       "      <td>3.000000</td>\n",
       "      <td>1.000000</td>\n",
       "      <td>35.750000</td>\n",
       "      <td>1.000000</td>\n",
       "      <td>0.000000</td>\n",
       "      <td>31.500000</td>\n",
       "      <td>2.000000</td>\n",
       "    </tr>\n",
       "    <tr>\n",
       "      <th>max</th>\n",
       "      <td>3.000000</td>\n",
       "      <td>1.000000</td>\n",
       "      <td>76.000000</td>\n",
       "      <td>8.000000</td>\n",
       "      <td>9.000000</td>\n",
       "      <td>512.329200</td>\n",
       "      <td>3.000000</td>\n",
       "    </tr>\n",
       "  </tbody>\n",
       "</table>\n",
       "</div>"
      ],
      "text/plain": [
       "           Pclass         Sex         Age       SibSp       Parch        Fare  \\\n",
       "count  418.000000  418.000000  418.000000  418.000000  418.000000  418.000000   \n",
       "mean     2.265550    0.636364   30.272590    0.447368    0.392344   35.627188   \n",
       "std      0.841838    0.481622   12.634534    0.896760    0.981429   55.840500   \n",
       "min      1.000000    0.000000    0.170000    0.000000    0.000000    0.000000   \n",
       "25%      1.000000    0.000000   23.000000    0.000000    0.000000    7.895800   \n",
       "50%      3.000000    1.000000   30.272590    0.000000    0.000000   14.454200   \n",
       "75%      3.000000    1.000000   35.750000    1.000000    0.000000   31.500000   \n",
       "max      3.000000    1.000000   76.000000    8.000000    9.000000  512.329200   \n",
       "\n",
       "         Embarked  \n",
       "count  418.000000  \n",
       "mean     1.464115  \n",
       "std      0.685516  \n",
       "min      1.000000  \n",
       "25%      1.000000  \n",
       "50%      1.000000  \n",
       "75%      2.000000  \n",
       "max      3.000000  "
      ]
     },
     "execution_count": 27,
     "metadata": {},
     "output_type": "execute_result"
    }
   ],
   "source": [
    "test = titanic_test[['Pclass','Sex','Age','SibSp','Parch','Fare','Embarked']]\n",
    "test.loc[:,:] = test.loc[:,:].astype('float64')\n",
    "test.describe()"
   ]
  },
  {
   "cell_type": "code",
   "execution_count": 28,
   "metadata": {
    "collapsed": false
   },
   "outputs": [],
   "source": [
    "#convert dataframe into 2d matrix \n",
    "test = test.as_matrix()\n",
    "m_test = test.shape[0]\n",
    "\n",
    "#adding a column of 1's to the test matrix\n",
    "one = np.ones([m_test,1])\n",
    "test = np.c_[one,test]\n",
    "\n",
    "z = np.dot(test, theta)\n",
    "test_predictions = sigmoid(z)\n",
    "test_predictions[test_predictions >= 0.5] = 1\n",
    "test_predictions[test_predictions <= 0.5] = 0 "
   ]
  },
  {
   "cell_type": "code",
   "execution_count": 29,
   "metadata": {
    "collapsed": false
   },
   "outputs": [
    {
     "data": {
      "image/png": "[encoded data removed]",
      "text/plain": [
       "<matplotlib.figure.Figure at 0x10bc62630>"
      ]
     },
     "metadata": {},
     "output_type": "display_data"
    }
   ],
   "source": [
    "from scipy import stats\n",
    "freq = scipy.stats.itemfreq(test_predictions)\n",
    "\n",
    "slices = [freq[0][1],freq[1][1]]\n",
    "labs = ['Dead','Survived']\n",
    "cols = ['r','g']\n",
    "\n",
    "#pie chart to show which port is the most popular for embarking on the Titanic\n",
    "plt.figure(4)\n",
    "plt.pie(slices, \n",
    "        labels=labs, \n",
    "        colors=cols, \n",
    "        autopct='%1.1f%%')\n",
    "\n",
    "plt.title('Survival Rate on the Titanic')\n",
    "plt.show()"
   ]
  },
  {
   "cell_type": "code",
   "execution_count": 30,
   "metadata": {
    "collapsed": false
   },
   "outputs": [],
   "source": [
    "submission = pd.DataFrame({\"PassengerID\":titanic_test['PassengerId'],\"Survived\":test_predictions})\n",
    "submission.to_csv('submission_file.csv',sep=',',index=False)"
   ]
  },
  {
   "cell_type": "markdown",
   "metadata": {},
   "source": [
    "# Making sense of the predictions"
   ]
  },
  {
   "cell_type": "code",
   "execution_count": 31,
   "metadata": {
    "collapsed": false
   },
   "outputs": [],
   "source": [
    "#joining the test_predictions array with the test set\n",
    "t_predict = pd.DataFrame(test_predictions,columns = ['Prediction'])\n",
    "titanic_test = t_predict.join(titanic_test)"
   ]
  },
  {
   "cell_type": "code",
   "execution_count": 32,
   "metadata": {
    "collapsed": false
   },
   "outputs": [
    {
     "data": {
      "image/png": "[encoded data removed]",
      "text/plain": [
       "<matplotlib.figure.Figure at 0x10bf8e320>"
      ]
     },
     "metadata": {},
     "output_type": "display_data"
    }
   ],
   "source": [
    "#split the test set into 2 dataframes based predictions of 0 and 1\n",
    "test_grouped = titanic_test.groupby('Prediction')\n",
    "dead = test_grouped.get_group(0)\n",
    "survived = test_grouped.get_group(1)\n",
    "\n",
    "xticks = np.arange(0,650,50)\n",
    "yticks = np.arange(0,250,50)\n",
    "binBoundaries = np.linspace(0,600,25)\n",
    "\n",
    "plt.figure(5)\n",
    "dead['Fare'].hist(bins = binBoundaries, label = 'Dead',color = 'r')\n",
    "survived['Fare'].hist(bins = binBoundaries, label = 'Survived',color = 'g')\n",
    "plt.title('Ticket Fare for Titanic passengers')\n",
    "plt.xlabel('Ticket Fare')\n",
    "plt.ylabel('Frequency')\n",
    "plt.xticks(xticks)\n",
    "plt.yticks(yticks)\n",
    "plt.xlim(0,600)\n",
    "plt.legend()\n",
    "plt.show()"
   ]
  },
  {
   "cell_type": "code",
   "execution_count": 33,
   "metadata": {
    "collapsed": false
   },
   "outputs": [
    {
     "data": {
      "image/png": "[encoded data removed]",
      "text/plain": [
       "<matplotlib.figure.Figure at 0x10c085f98>"
      ]
     },
     "metadata": {},
     "output_type": "display_data"
    }
   ],
   "source": [
    "#divide dead and survived dataframe into first, second and third class\n",
    "pclass_dead = dead.groupby('Pclass').size()\n",
    "pclass_survived = survived.groupby('Pclass').size()\n",
    "\n",
    "y1 = [pclass_dead.iloc[0],pclass_dead.iloc[1],pclass_dead.iloc[2]]\n",
    "y2 = [pclass_survived.iloc[0],pclass_survived.iloc[1],0]\n",
    "\n",
    "labels = ['First','Second','Third']\n",
    "ngroups = 3\n",
    "index = np.arange(ngroups)\n",
    "barwidth = 0.3\n",
    "\n",
    "plt.figure(6)\n",
    "plt.bar(index, y1, barwidth, label = 'Dead', color = 'red')\n",
    "plt.bar(index, y2, barwidth, label = 'Survived', color = 'green')\n",
    "plt.xticks(index + 0.15, labels)\n",
    "plt.legend(loc = 2)\n",
    "plt.grid()\n",
    "plt.title('Passenger class of Titanic passengers')\n",
    "plt.ylabel('Number of Passengers')\n",
    "plt.margins(0.1)\n",
    "plt.show()"
   ]
  },
  {
   "cell_type": "code",
   "execution_count": 34,
   "metadata": {
    "collapsed": false
   },
   "outputs": [
    {
     "data": {
      "image/png": "[encoded data removed]",
      "text/plain": [
       "<matplotlib.figure.Figure at 0x10c098828>"
      ]
     },
     "metadata": {},
     "output_type": "display_data"
    }
   ],
   "source": [
    "#analyzing scatter plot of the age vs the ticket price\n",
    "#converting the dataframe columns into numpy arrays\n",
    "dead_age = dead['Age']\n",
    "dead_fare = dead['Fare']\n",
    "\n",
    "survived_age = survived['Age']\n",
    "survived_fare = survived['Fare']\n",
    "\n",
    "plt.figure(7)\n",
    "plt.scatter(dead_age, dead_fare, color = 'red', label = 'Dead', alpha = 0.6)\n",
    "plt.scatter(survived_age, survived_fare, color = 'green', label = 'Survived', alpha = 0.6)\n",
    "plt.xlabel('Age')\n",
    "plt.ylabel('Ticket Price ($)')\n",
    "plt.legend(loc = 2)\n",
    "plt.show()"
   ]
  },
  {
   "cell_type": "code",
   "execution_count": null,
   "metadata": {
    "collapsed": true
   },
   "outputs": [],
   "source": []
  }
 ],
 "metadata": {
  "kernelspec": {
   "display_name": "Python 3",
   "language": "python",
   "name": "python3"
  },
  "language_info": {
   "codemirror_mode": {
    "name": "ipython",
    "version": 3
   },
   "file_extension": ".py",
   "mimetype": "text/x-python",
   "name": "python",
   "nbconvert_exporter": "python",
   "pygments_lexer": "ipython3",
   "version": "3.5.2"
  }
 },
 "nbformat": 4,
 "nbformat_minor": 1
}
